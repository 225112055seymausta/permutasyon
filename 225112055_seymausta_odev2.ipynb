{
  "nbformat": 4,
  "nbformat_minor": 0,
  "metadata": {
    "colab": {
      "provenance": []
    },
    "kernelspec": {
      "name": "python3",
      "display_name": "Python 3"
    },
    "language_info": {
      "name": "python"
    }
  },
  "cells": [
    {
      "cell_type": "markdown",
      "source": [
        "# ***`TEMEL OLASILIK`***\n",
        "**Problem :** Bir spor salonuna günde 1000 kişi spor yapmak için geliyor. Gelen kişilerin %30'ı kilo vermek istiyor. Sabah saatlerinde (08:00-12:00 saatleri arasında) kulübe 50 kişi geliyor.\n",
        "Sabah saatlerinde kulübe gelen kişilerden kilo vermek isteyen bir kişiyle karşılaşma olasılığımız nedir?"
      ],
      "metadata": {
        "id": "RyNowXxlYFRf"
      }
    },
    {
      "cell_type": "markdown",
      "source": [
        "p (Toplam Kişi) = 1000\n",
        "\n",
        "s (Sabah saatlerinde gelen kişi sayısı) = 50\n",
        "\n",
        "f (Kilo Vermek İsteyen Kişi Sayısı) = 1000 * 30 / 100 = 300\n",
        "\n",
        "Her kişi ile karşılaşma eşit şanslı olay olursa:\n",
        "\n",
        "1 değerinden istenmeyen durumların gerçekleşme olasılığını çıkarırsak sonuca ulaşabiliriz.\n",
        "\n",
        "P (kilo vermek isteyen kişi sayısı) = 1 - C (p-f,s) / C (p,s)"
      ],
      "metadata": {
        "id": "z7Sq5JteYkyl"
      }
    },
    {
      "cell_type": "code",
      "execution_count": 1,
      "metadata": {
        "colab": {
          "base_uri": "https://localhost:8080/"
        },
        "id": "Ey_GavV1X5sK",
        "outputId": "695cc4a1-19ab-4dbf-8420-163c07e0fb24"
      },
      "outputs": [
        {
          "output_type": "stream",
          "name": "stdout",
          "text": [
            "Kilo vermek isteyen kişi sayısı: 300.0\n"
          ]
        }
      ],
      "source": [
        "print(\"Kilo vermek isteyen kişi sayısı:\",1000 * 30 / 100)"
      ]
    },
    {
      "cell_type": "code",
      "source": [
        "def faktoriyel(sayi):\n",
        "  sonuc=1\n",
        "  for i in range(1,sayi+1):\n",
        "    sonuc=sonuc*i\n",
        "  return sonuc\n",
        "  \n",
        "def kombinasyon(n,r):\n",
        "  return faktoriyel(n)/(faktoriyel(n-r)*faktoriyel(r))"
      ],
      "metadata": {
        "id": "Dbb6GIzaY7u1"
      },
      "execution_count": 5,
      "outputs": []
    },
    {
      "cell_type": "code",
      "source": [
        "p=3000\n",
        "s=50\n",
        "f=1200\n",
        "k=p-f\n",
        "\n",
        "P=1-kombinasyon(k,s)/kombinasyon(p,s)\n",
        "print(P)\n",
        "     \n",
        "     "
      ],
      "metadata": {
        "colab": {
          "base_uri": "https://localhost:8080/"
        },
        "id": "8KAmG-dPZAeQ",
        "outputId": "50af9e5f-b62a-42c4-bc22-6d2480301e9d"
      },
      "execution_count": 6,
      "outputs": [
        {
          "output_type": "stream",
          "name": "stdout",
          "text": [
            "0.9999999999938683\n"
          ]
        }
      ]
    },
    {
      "cell_type": "markdown",
      "source": [
        "**SONUÇ:**Sabah saatlerinde spor kulübüne gelen kişilerden kilo vermek isteyen bir kişiyle karşılaşma olasılığımız 0.9999999999938683 olarak bulunur."
      ],
      "metadata": {
        "id": "7KvfmdCvZbRl"
      }
    }
  ]
}