{
  "nbformat": 4,
  "nbformat_minor": 0,
  "metadata": {
    "colab": {
      "provenance": []
    },
    "kernelspec": {
      "name": "python3",
      "display_name": "Python 3"
    },
    "language_info": {
      "name": "python"
    }
  },
  "cells": [
    {
      "cell_type": "markdown",
      "source": [
        "# SORU1: PERMÜTASYON\n",
        " Problem: ELEME sözcüğündeki harfleri kullanarak anlamlı anlamsız 5 harfli kaç farklı sözcük türetilebilir?**\n",
        " \n",
        " Verilen sözcükte üç tane E, bir tane M VE bir tane L harfi olduğundan 5! / (1!* 3! * 1!) = 20 sonucu elde edilir."
      ],
      "metadata": {
        "id": "fPqhl_Tzbdkf"
      }
    },
    {
      "cell_type": "code",
      "execution_count": null,
      "metadata": {
        "id": "TuUP1f1ban3p"
      },
      "outputs": [],
      "source": [
        "def faktoriyel(sayi):\n",
        "    if sayi==1:\n",
        "        return 1\n",
        "    else:\n",
        "        return sayi * faktoriyel(sayi-1) "
      ]
    },
    {
      "cell_type": "markdown",
      "source": [
        "faktoriyel(sayi) fonksiyonu özyinelemeli bir fonksiyondur. Yani kendisine gönderilen sayı değeri 1 değerine eşit olana kadar sayının 1 eksiğini alarak yine kendisine gönderdiğinden fonksiyon kendini yinelemektedir. Burada sayi ile 1 arasındaki değerlerin birbirleri ile çarpımı bulunarak fonksiyona gönderilen sayi değerinin faktöriyel sonucu hesaplanmaktadır."
      ],
      "metadata": {
        "id": "C4wO2BQvbcCM"
      }
    },
    {
      "cell_type": "code",
      "source": [
        "\n",
        "def permutasyon(kelime):\n",
        "    harfler=[]\n",
        "    harf=[]\n",
        "    miktar=[]\n",
        "    bolum=1\n",
        "    for h in kelime:\n",
        "        harfler.append(h)\n",
        "    harfsayisi=len(harfler)\n",
        "    for h in harfler:\n",
        "        if not h in harf:\n",
        "            harf.append(h)\n",
        "            miktar.append(harfler.count(h))\n",
        "    for i in miktar:\n",
        "        bolum=bolum*faktoriyel(i)\n",
        "    return int(faktoriyel(harfsayisi)/bolum)"
      ],
      "metadata": {
        "id": "Uj-NOzj_a-as"
      },
      "execution_count": null,
      "outputs": []
    },
    {
      "cell_type": "markdown",
      "source": [
        "permutasyon(kelime) fonksiyonu kendisine gönderilen kelimenin içerisinde yer alan harfleri ve harflerin tekrar sayılarını bulmaktadır.\n",
        "\n",
        "Kelimenin içerisindeki harflerin tekrar sayılarını faktoriyel(sayi) fonksiyona göndererek faktöriyellerini hesaplatıp daha sonra faktöriyel sonuçlarının çarpımını bolum değişkeninde tutmaktadır.\n",
        "\n",
        "Kelimenin içerisinde yer alan tüm harflerin sayısının faktöriyelini faktoriyel(sayi) fonksiyonu ile hesaplatıp bolum değişkenine bölerek çıkan sonucu geri döndürmektedir."
      ],
      "metadata": {
        "id": "XgwPsLegcryG"
      }
    },
    {
      "cell_type": "code",
      "source": [
        "kelime=\"ELEME\"\n",
        "print(permutasyon(kelime))\n",
        "     "
      ],
      "metadata": {
        "colab": {
          "base_uri": "https://localhost:8080/"
        },
        "id": "kbV0gEa_bBLK",
        "outputId": "c68f1c7c-b057-409a-930e-69103aad6c71"
      },
      "execution_count": null,
      "outputs": [
        {
          "output_type": "stream",
          "name": "stdout",
          "text": [
            "20\n"
          ]
        }
      ]
    },
    {
      "cell_type": "markdown",
      "source": [
        "kelime değişkenine \"ELEME\" kelimesi aktarılmıştır. Bu kelime permutasyon(kelime) fonksiyonuna gönderilmiştir.\n",
        "\n",
        "permutasyon(kelime) fonksiyonundan geri dönen 20 değeri ekrana yazdırılmıştır."
      ],
      "metadata": {
        "id": "ype7jNueba1q"
      }
    },
    {
      "cell_type": "markdown",
      "source": [
        "# SORU2: KOMBİNASYON\n",
        "Problem: 5 erkek, 5 kadın arasından en çok 1 kadın bulunmak şartı ile 4 kişilik bir grup kaç farklı şekilde seçilir?\n",
        "\n",
        "ÇÖZÜM YOLU: En fazla bir kadın olması gerektiğinden, seçimleri iki duruma ayırmamız gerekiyor.\n",
        "\n",
        "Durum 1: Grubun tamamı erkeklerden oluşuyor.\n",
        "Durum 2: Grubun bir kadın ve geri kalanı erkeklerden oluşuyor.\n",
        "\n",
        "Durum 1'de, 4 kişi seçmek için 5 erkek arasından seçebiliriz. Bu durumda, seçimlerimizde kadın yoktur, yani en fazla 1 kadın koşulunu karşılar.\n",
        "\n",
        "Durum 2 için, bir kadın seçmek için 5 kadın arasından seçebiliriz. Geri kalan 3 kişiyi erkekler arasından seçebiliriz. Toplamda, 5 kadın arasından 1 kişi seçmek için 5 seçenek vardır ve geri kalan 3 kişiyi 5 erkek arasından seçmek için 5C3 yani 10 seçenek vardır. Bu durumda, toplam seçenek sayısı 5 x 10 = 50'dir.\n",
        "\n",
        "Böylece, en fazla 1 kadın koşulunu karşılayarak 4 kişilik bir grubun seçilme olasılığı, toplamda 5 + 50 = 55'dir."
      ],
      "metadata": {
        "id": "8mq36lmq6UfO"
      }
    },
    {
      "cell_type": "code",
      "source": [
        "import math"
      ],
      "metadata": {
        "id": "Z0zk8DPF6tbB"
      },
      "execution_count": 1,
      "outputs": []
    },
    {
      "cell_type": "markdown",
      "source": [
        "\n",
        "Durum 1: Grubun tamamı erkeklerden oluşuyor.\n",
        "5 erkek arasından 4 kişi seçmek için 5C4 kombinasyonunu hesaplayabiliriz."
      ],
      "metadata": {
        "id": "0ZNWfFS96zWY"
      }
    },
    {
      "cell_type": "code",
      "source": [
        "durum1 = math.comb(5, 4)"
      ],
      "metadata": {
        "id": "kpOFnj6H6ygc"
      },
      "execution_count": 2,
      "outputs": []
    },
    {
      "cell_type": "markdown",
      "source": [
        " Durum 2: Grubun bir kadın ve geri kalanı erkeklerden oluşuyor.\n",
        "5 kadın arasından 1 kişi seçmek için 5C1 kombinasyonu vardır.\n",
        "5 erkek arasından 3 kişi seçmek için 5C3 kombinasyonu vardır."
      ],
      "metadata": {
        "id": "tQnQRQ7A6-J5"
      }
    },
    {
      "cell_type": "code",
      "source": [
        "durum2 = math.comb(5, 1) * math.comb(5, 3)"
      ],
      "metadata": {
        "id": "SzsthxiV7A7F"
      },
      "execution_count": 3,
      "outputs": []
    },
    {
      "cell_type": "markdown",
      "source": [
        "Toplam seçenek sayısını hesaplamak için durum1 ve durum2'yi topluyoruz."
      ],
      "metadata": {
        "id": "mAqkwO547Exb"
      }
    },
    {
      "cell_type": "code",
      "source": [
        "toplam_secenek = durum1 + durum2\n",
        "print(\"Toplam seçenek sayısı:\", toplam_secenek)"
      ],
      "metadata": {
        "colab": {
          "base_uri": "https://localhost:8080/"
        },
        "id": "NzzHL_LC7Fb2",
        "outputId": "ed8564e6-b8c7-49c7-f030-a87362c525e0"
      },
      "execution_count": 4,
      "outputs": [
        {
          "output_type": "stream",
          "name": "stdout",
          "text": [
            "Toplam seçenek sayısı: 55\n"
          ]
        }
      ]
    }
  ]
}