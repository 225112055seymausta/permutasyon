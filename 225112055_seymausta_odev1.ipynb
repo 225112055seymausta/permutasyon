{
  "nbformat": 4,
  "nbformat_minor": 0,
  "metadata": {
    "colab": {
      "provenance": []
    },
    "kernelspec": {
      "name": "python3",
      "display_name": "Python 3"
    },
    "language_info": {
      "name": "python"
    }
  },
  "cells": [
    {
      "cell_type": "markdown",
      "source": [
        "# ** Problem: ELEME sözcüğündeki harfleri kullanarak anlamlı anlamsız 5 harfli kaç farklı sözcük türetilebilir?**\n",
        " \n",
        " Verilen sözcükte üç tane E, bir tane M VE bir tane L harfi olduğundan 5! / (1!* 3! * 1!) = 20 sonucu elde edilir."
      ],
      "metadata": {
        "id": "fPqhl_Tzbdkf"
      }
    },
    {
      "cell_type": "code",
      "execution_count": 1,
      "metadata": {
        "id": "TuUP1f1ban3p"
      },
      "outputs": [],
      "source": [
        "def faktoriyel(sayi):\n",
        "    if sayi==1:\n",
        "        return 1\n",
        "    else:\n",
        "        return sayi * faktoriyel(sayi-1) "
      ]
    },
    {
      "cell_type": "markdown",
      "source": [
        "faktoriyel(sayi) fonksiyonu özyinelemeli bir fonksiyondur. Yani kendisine gönderilen sayı değeri 1 değerine eşit olana kadar sayının 1 eksiğini alarak yine kendisine gönderdiğinden fonksiyon kendini yinelemektedir. Burada sayi ile 1 arasındaki değerlerin birbirleri ile çarpımı bulunarak fonksiyona gönderilen sayi değerinin faktöriyel sonucu hesaplanmaktadır."
      ],
      "metadata": {
        "id": "C4wO2BQvbcCM"
      }
    },
    {
      "cell_type": "code",
      "source": [
        "\n",
        "def permutasyon(kelime):\n",
        "    harfler=[]\n",
        "    harf=[]\n",
        "    miktar=[]\n",
        "    bolum=1\n",
        "    for h in kelime:\n",
        "        harfler.append(h)\n",
        "    harfsayisi=len(harfler)\n",
        "    for h in harfler:\n",
        "        if not h in harf:\n",
        "            harf.append(h)\n",
        "            miktar.append(harfler.count(h))\n",
        "    for i in miktar:\n",
        "        bolum=bolum*faktoriyel(i)\n",
        "    return int(faktoriyel(harfsayisi)/bolum)"
      ],
      "metadata": {
        "id": "Uj-NOzj_a-as"
      },
      "execution_count": 2,
      "outputs": []
    },
    {
      "cell_type": "markdown",
      "source": [
        "permutasyon(kelime) fonksiyonu kendisine gönderilen kelimenin içerisinde yer alan harfleri ve harflerin tekrar sayılarını bulmaktadır.\n",
        "\n",
        "Kelimenin içerisindeki harflerin tekrar sayılarını faktoriyel(sayi) fonksiyona göndererek faktöriyellerini hesaplatıp daha sonra faktöriyel sonuçlarının çarpımını bolum değişkeninde tutmaktadır.\n",
        "\n",
        "Kelimenin içerisinde yer alan tüm harflerin sayısının faktöriyelini faktoriyel(sayi) fonksiyonu ile hesaplatıp bolum değişkenine bölerek çıkan sonucu geri döndürmektedir."
      ],
      "metadata": {
        "id": "XgwPsLegcryG"
      }
    },
    {
      "cell_type": "code",
      "source": [
        "kelime=\"ELEME\"\n",
        "print(permutasyon(kelime))\n",
        "     "
      ],
      "metadata": {
        "colab": {
          "base_uri": "https://localhost:8080/"
        },
        "id": "kbV0gEa_bBLK",
        "outputId": "c68f1c7c-b057-409a-930e-69103aad6c71"
      },
      "execution_count": 4,
      "outputs": [
        {
          "output_type": "stream",
          "name": "stdout",
          "text": [
            "20\n"
          ]
        }
      ]
    },
    {
      "cell_type": "markdown",
      "source": [
        "kelime değişkenine \"ELEME\" kelimesi aktarılmıştır. Bu kelime permutasyon(kelime) fonksiyonuna gönderilmiştir.\n",
        "\n",
        "permutasyon(kelime) fonksiyonundan geri dönen 20 değeri ekrana yazdırılmıştır."
      ],
      "metadata": {
        "id": "ype7jNueba1q"
      }
    }
  ]
}